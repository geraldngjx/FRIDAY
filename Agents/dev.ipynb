{
 "cells": [
  {
   "cell_type": "code",
   "execution_count": 25,
   "metadata": {},
   "outputs": [],
   "source": [
    "from gcsa.google_calendar import GoogleCalendar\n",
    "from gcsa.event import Event\n",
    "\n",
    "gc = GoogleCalendar(\"limweihern@gmail.com\", credentials_path = \"/Users/weihern/Documents/Computing Projects/FRIDAY/FRIDAY Working/credentials.json\")"
   ]
  },
  {
   "cell_type": "code",
   "execution_count": 40,
   "metadata": {},
   "outputs": [
    {
     "name": "stdout",
     "output_type": "stream",
     "text": [
      "2022-10-09 21:00:00+08:00 - gcpoon Monthly Catchup\n",
      "None - None\n",
      "None - None\n",
      "2023-05-08 08:30:00+08:00 - DBS Start\n",
      "2023-05-04 21:00:00+08:00 - Research Call\n"
     ]
    }
   ],
   "source": [
    "for event in gc.get_events():\n",
    "    print(event)"
   ]
  },
  {
   "cell_type": "code",
   "execution_count": 41,
   "metadata": {},
   "outputs": [
    {
     "data": {
      "text/plain": [
       "'2023-05-04 21:00:00+08:00 - Research Call'"
      ]
     },
     "execution_count": 41,
     "metadata": {},
     "output_type": "execute_result"
    }
   ],
   "source": [
    "str(event)"
   ]
  },
  {
   "cell_type": "code",
   "execution_count": 29,
   "metadata": {},
   "outputs": [],
   "source": [
    "from dateutil import parser"
   ]
  },
  {
   "cell_type": "code",
   "execution_count": 42,
   "metadata": {},
   "outputs": [
    {
     "data": {
      "text/plain": [
       "datetime.datetime(2023, 5, 6, 9, 0, tzinfo=tzoffset(None, -28800))"
      ]
     },
     "execution_count": 42,
     "metadata": {},
     "output_type": "execute_result"
    }
   ],
   "source": [
    "parser.parse(\"9am GMT+8\")"
   ]
  },
  {
   "cell_type": "code",
   "execution_count": 39,
   "metadata": {},
   "outputs": [],
   "source": [
    "for events in gc.get_events(time_min = parser.parse(\"9am\"), time_max = parser.parse(\"10am\")):\n",
    "    print(events)"
   ]
  },
  {
   "cell_type": "code",
   "execution_count": 55,
   "metadata": {},
   "outputs": [
    {
     "data": {
      "text/plain": [
       "('Range: 9am - 5pm',)"
      ]
     },
     "execution_count": 55,
     "metadata": {},
     "output_type": "execute_result"
    }
   ],
   "source": [
    "import re\n",
    "action_re = re.compile(\"^Answer: (.*)$\")\n",
    "result = \"\"\"\n",
    "Thought: I need to know the available slots \n",
    "Answer: Range: 9am - 5pm\n",
    "\"\"\"\n",
    "actions = [action_re.match(a) for a in result.split('\\n') if action_re.match(a)] \n",
    "actions[0].groups()[0]"
   ]
  },
  {
   "cell_type": "code",
   "execution_count": 50,
   "metadata": {},
   "outputs": [
    {
     "data": {
      "text/plain": [
       "('Range', '9am - 5pm')"
      ]
     },
     "execution_count": 50,
     "metadata": {},
     "output_type": "execute_result"
    }
   ],
   "source": [
    "actions[0].groups()"
   ]
  },
  {
   "cell_type": "code",
   "execution_count": null,
   "metadata": {},
   "outputs": [],
   "source": []
  }
 ],
 "metadata": {
  "kernelspec": {
   "display_name": "ml",
   "language": "python",
   "name": "python3"
  },
  "language_info": {
   "codemirror_mode": {
    "name": "ipython",
    "version": 3
   },
   "file_extension": ".py",
   "mimetype": "text/x-python",
   "name": "python",
   "nbconvert_exporter": "python",
   "pygments_lexer": "ipython3",
   "version": "3.9.15"
  },
  "orig_nbformat": 4
 },
 "nbformat": 4,
 "nbformat_minor": 2
}
