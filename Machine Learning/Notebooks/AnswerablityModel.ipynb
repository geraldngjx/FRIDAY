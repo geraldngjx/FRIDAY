{
 "cells": [
  {
   "cell_type": "code",
   "execution_count": 1,
   "metadata": {},
   "outputs": [],
   "source": [
    "import pandas as pd\n",
    "import xgboost as xgb\n",
    "import numpy as np"
   ]
  },
  {
   "cell_type": "code",
   "execution_count": 25,
   "metadata": {},
   "outputs": [],
   "source": [
    "train_df = pd.read_csv('../Data/train_processed.csv')\n",
    "val_df = pd.read_csv('../Data/var_processed.csv')\n",
    "test_df = pd.read_csv('../Data/test_processed.csv') "
   ]
  },
  {
   "cell_type": "code",
   "execution_count": 26,
   "metadata": {},
   "outputs": [
    {
     "data": {
      "text/html": [
       "<div>\n",
       "<style scoped>\n",
       "    .dataframe tbody tr th:only-of-type {\n",
       "        vertical-align: middle;\n",
       "    }\n",
       "\n",
       "    .dataframe tbody tr th {\n",
       "        vertical-align: top;\n",
       "    }\n",
       "\n",
       "    .dataframe thead th {\n",
       "        text-align: right;\n",
       "    }\n",
       "</style>\n",
       "<table border=\"1\" class=\"dataframe\">\n",
       "  <thead>\n",
       "    <tr style=\"text-align: right;\">\n",
       "      <th></th>\n",
       "      <th>asin</th>\n",
       "      <th>category</th>\n",
       "      <th>questionText</th>\n",
       "      <th>questionType</th>\n",
       "      <th>review_snippets</th>\n",
       "      <th>answers</th>\n",
       "      <th>is_answerable</th>\n",
       "      <th>qid</th>\n",
       "    </tr>\n",
       "  </thead>\n",
       "  <tbody>\n",
       "    <tr>\n",
       "      <th>0</th>\n",
       "      <td>B000MP20BU</td>\n",
       "      <td>Toys_and_Games</td>\n",
       "      <td>Many have stated similar to the following: \"Pa...</td>\n",
       "      <td>descriptive</td>\n",
       "      <td>[\"A lot of reviewers have said things about th...</td>\n",
       "      <td>[{'answerText': \"The paint has held up through...</td>\n",
       "      <td>1.0</td>\n",
       "      <td>0.0</td>\n",
       "    </tr>\n",
       "    <tr>\n",
       "      <th>1</th>\n",
       "      <td>B00BOXZZU2</td>\n",
       "      <td>Health_and_Personal_Care</td>\n",
       "      <td>Will these work with the Phillips sonicare han...</td>\n",
       "      <td>descriptive</td>\n",
       "      <td>[\"I didn't even realize such a small electric ...</td>\n",
       "      <td>[{'answerText': 'The answer unfortunately, is ...</td>\n",
       "      <td>0.0</td>\n",
       "      <td>1.0</td>\n",
       "    </tr>\n",
       "    <tr>\n",
       "      <th>2</th>\n",
       "      <td>B00CSYD4M2</td>\n",
       "      <td>Cell_Phones_and_Accessories</td>\n",
       "      <td>What kind of sim card it use?</td>\n",
       "      <td>descriptive</td>\n",
       "      <td>['I bought this phone a few weeks ago.I am usi...</td>\n",
       "      <td>[{'answerText': 'This phone is an unlocked GSM...</td>\n",
       "      <td>1.0</td>\n",
       "      <td>2.0</td>\n",
       "    </tr>\n",
       "    <tr>\n",
       "      <th>3</th>\n",
       "      <td>B00C5TNSRG</td>\n",
       "      <td>Home_and_Kitchen</td>\n",
       "      <td>does anyone know if this dinnerware set does n...</td>\n",
       "      <td>descriptive</td>\n",
       "      <td>[\"I love my new dishes! They are so versatile....</td>\n",
       "      <td>[{'answerText': 'According to the internet sea...</td>\n",
       "      <td>0.0</td>\n",
       "      <td>3.0</td>\n",
       "    </tr>\n",
       "    <tr>\n",
       "      <th>4</th>\n",
       "      <td>B0099XQBD4</td>\n",
       "      <td>Musical_Instruments</td>\n",
       "      <td>I'm thinking of getting in to modular synthesi...</td>\n",
       "      <td>descriptive</td>\n",
       "      <td>['Will order another in the near future and ar...</td>\n",
       "      <td>[{'answerText': 'Yes it will.', 'answerType': ...</td>\n",
       "      <td>0.0</td>\n",
       "      <td>4.0</td>\n",
       "    </tr>\n",
       "  </tbody>\n",
       "</table>\n",
       "</div>"
      ],
      "text/plain": [
       "         asin                     category  \\\n",
       "0  B000MP20BU               Toys_and_Games   \n",
       "1  B00BOXZZU2     Health_and_Personal_Care   \n",
       "2  B00CSYD4M2  Cell_Phones_and_Accessories   \n",
       "3  B00C5TNSRG             Home_and_Kitchen   \n",
       "4  B0099XQBD4          Musical_Instruments   \n",
       "\n",
       "                                        questionText questionType  \\\n",
       "0  Many have stated similar to the following: \"Pa...  descriptive   \n",
       "1  Will these work with the Phillips sonicare han...  descriptive   \n",
       "2                      What kind of sim card it use?  descriptive   \n",
       "3  does anyone know if this dinnerware set does n...  descriptive   \n",
       "4  I'm thinking of getting in to modular synthesi...  descriptive   \n",
       "\n",
       "                                     review_snippets  \\\n",
       "0  [\"A lot of reviewers have said things about th...   \n",
       "1  [\"I didn't even realize such a small electric ...   \n",
       "2  ['I bought this phone a few weeks ago.I am usi...   \n",
       "3  [\"I love my new dishes! They are so versatile....   \n",
       "4  ['Will order another in the near future and ar...   \n",
       "\n",
       "                                             answers  is_answerable  qid  \n",
       "0  [{'answerText': \"The paint has held up through...            1.0  0.0  \n",
       "1  [{'answerText': 'The answer unfortunately, is ...            0.0  1.0  \n",
       "2  [{'answerText': 'This phone is an unlocked GSM...            1.0  2.0  \n",
       "3  [{'answerText': 'According to the internet sea...            0.0  3.0  \n",
       "4  [{'answerText': 'Yes it will.', 'answerType': ...            0.0  4.0  "
      ]
     },
     "execution_count": 26,
     "metadata": {},
     "output_type": "execute_result"
    }
   ],
   "source": [
    "train_df.head()"
   ]
  },
  {
   "cell_type": "code",
   "execution_count": 27,
   "metadata": {},
   "outputs": [],
   "source": [
    "val_df.drop([x for x in val_df.columns if x not in train_df.columns],axis=1,inplace=True)"
   ]
  },
  {
   "cell_type": "code",
   "execution_count": 28,
   "metadata": {},
   "outputs": [],
   "source": [
    "test_df.drop([x for x in test_df.columns if x not in train_df.columns],axis=1,inplace=True)"
   ]
  },
  {
   "cell_type": "code",
   "execution_count": 29,
   "metadata": {},
   "outputs": [],
   "source": [
    "train_df.dropna(subset=['is_answerable'],inplace=True)"
   ]
  },
  {
   "cell_type": "code",
   "execution_count": 30,
   "metadata": {},
   "outputs": [],
   "source": [
    "test_df.dropna(subset=['is_answerable'],inplace=True)\n",
    "val_df.dropna(subset=['is_answerable'],inplace=True)"
   ]
  },
  {
   "cell_type": "code",
   "execution_count": 12,
   "metadata": {},
   "outputs": [],
   "source": [
    "def convert_tolst(df):\n",
    "    df = df.copy()\n",
    "    df['review_snippets'] = df['review_snippets'].apply(lambda x: np.array(x.replace('[','').replace(']','').replace('\\n','').replace(\"'\",'').split(' ')))\n",
    "    df['answers'] = df['answers'].apply(lambda x: np.array(x.replace('[','').replace(']','').replace('\\n','').replace(\"'\",'').split(' ')))\n",
    "    return df\n",
    "\n",
    "train_df = convert_tolst(train_df)\n",
    "val_df = convert_tolst(val_df)\n",
    "test_df = convert_tolst(test_df)"
   ]
  },
  {
   "cell_type": "code",
   "execution_count": 31,
   "metadata": {},
   "outputs": [],
   "source": [
    "train_df.to_csv('../Data/train.csv',index=False)\n",
    "val_df.to_csv('../Data/val.csv',index=False)\n",
    "test_df.to_csv('../Data/test.csv',index=False)\n",
    "pd.concat([train_df,val_df,test_df]).to_csv('../Data/all.csv',index=False)"
   ]
  },
  {
   "cell_type": "code",
   "execution_count": 18,
   "metadata": {},
   "outputs": [
    {
     "data": {
      "text/plain": [
       "1.0    450484\n",
       "0.0    279584\n",
       "Name: is_answerable, dtype: int64"
      ]
     },
     "execution_count": 18,
     "metadata": {},
     "output_type": "execute_result"
    }
   ],
   "source": [
    "model_data = train_df[['review_snippets','questionText','is_answerable']].copy()\n",
    "model_data['review_snippets'] = model_data['review_snippets'].apply(lambda x: '    '.join(x)) #4 spaces\n",
    "model_data['is_answerable'].value_counts()"
   ]
  },
  {
   "cell_type": "code",
   "execution_count": 19,
   "metadata": {},
   "outputs": [],
   "source": [
    "X = model_data.drop('is_answerable',axis=1)\n",
    "y = model_data['is_answerable'].values"
   ]
  },
  {
   "cell_type": "code",
   "execution_count": 20,
   "metadata": {},
   "outputs": [],
   "source": [
    "from sklearn.feature_extraction.text import TfidfVectorizer\n",
    "from sentence_transformers import SentenceTransformer, util\n",
    "from transformers import AutoTokenizer\n",
    "from nltk import tokenize\n",
    "import pickle\n",
    "import transformers\n",
    "import torch"
   ]
  },
  {
   "cell_type": "code",
   "execution_count": 21,
   "metadata": {},
   "outputs": [],
   "source": [
    "tokenizer = AutoTokenizer.from_pretrained(\"bert-base-uncased\")\n",
    "tfidf_vectorizer = TfidfVectorizer(stop_words ='english')\n",
    "sentence_t = SentenceTransformer('multi-qa-MiniLM-L6-cos-v1')"
   ]
  },
  {
   "cell_type": "code",
   "execution_count": 22,
   "metadata": {},
   "outputs": [
    {
     "data": {
      "text/html": [
       "<style>#sk-container-id-1 {color: black;background-color: white;}#sk-container-id-1 pre{padding: 0;}#sk-container-id-1 div.sk-toggleable {background-color: white;}#sk-container-id-1 label.sk-toggleable__label {cursor: pointer;display: block;width: 100%;margin-bottom: 0;padding: 0.3em;box-sizing: border-box;text-align: center;}#sk-container-id-1 label.sk-toggleable__label-arrow:before {content: \"▸\";float: left;margin-right: 0.25em;color: #696969;}#sk-container-id-1 label.sk-toggleable__label-arrow:hover:before {color: black;}#sk-container-id-1 div.sk-estimator:hover label.sk-toggleable__label-arrow:before {color: black;}#sk-container-id-1 div.sk-toggleable__content {max-height: 0;max-width: 0;overflow: hidden;text-align: left;background-color: #f0f8ff;}#sk-container-id-1 div.sk-toggleable__content pre {margin: 0.2em;color: black;border-radius: 0.25em;background-color: #f0f8ff;}#sk-container-id-1 input.sk-toggleable__control:checked~div.sk-toggleable__content {max-height: 200px;max-width: 100%;overflow: auto;}#sk-container-id-1 input.sk-toggleable__control:checked~label.sk-toggleable__label-arrow:before {content: \"▾\";}#sk-container-id-1 div.sk-estimator input.sk-toggleable__control:checked~label.sk-toggleable__label {background-color: #d4ebff;}#sk-container-id-1 div.sk-label input.sk-toggleable__control:checked~label.sk-toggleable__label {background-color: #d4ebff;}#sk-container-id-1 input.sk-hidden--visually {border: 0;clip: rect(1px 1px 1px 1px);clip: rect(1px, 1px, 1px, 1px);height: 1px;margin: -1px;overflow: hidden;padding: 0;position: absolute;width: 1px;}#sk-container-id-1 div.sk-estimator {font-family: monospace;background-color: #f0f8ff;border: 1px dotted black;border-radius: 0.25em;box-sizing: border-box;margin-bottom: 0.5em;}#sk-container-id-1 div.sk-estimator:hover {background-color: #d4ebff;}#sk-container-id-1 div.sk-parallel-item::after {content: \"\";width: 100%;border-bottom: 1px solid gray;flex-grow: 1;}#sk-container-id-1 div.sk-label:hover label.sk-toggleable__label {background-color: #d4ebff;}#sk-container-id-1 div.sk-serial::before {content: \"\";position: absolute;border-left: 1px solid gray;box-sizing: border-box;top: 0;bottom: 0;left: 50%;z-index: 0;}#sk-container-id-1 div.sk-serial {display: flex;flex-direction: column;align-items: center;background-color: white;padding-right: 0.2em;padding-left: 0.2em;position: relative;}#sk-container-id-1 div.sk-item {position: relative;z-index: 1;}#sk-container-id-1 div.sk-parallel {display: flex;align-items: stretch;justify-content: center;background-color: white;position: relative;}#sk-container-id-1 div.sk-item::before, #sk-container-id-1 div.sk-parallel-item::before {content: \"\";position: absolute;border-left: 1px solid gray;box-sizing: border-box;top: 0;bottom: 0;left: 50%;z-index: -1;}#sk-container-id-1 div.sk-parallel-item {display: flex;flex-direction: column;z-index: 1;position: relative;background-color: white;}#sk-container-id-1 div.sk-parallel-item:first-child::after {align-self: flex-end;width: 50%;}#sk-container-id-1 div.sk-parallel-item:last-child::after {align-self: flex-start;width: 50%;}#sk-container-id-1 div.sk-parallel-item:only-child::after {width: 0;}#sk-container-id-1 div.sk-dashed-wrapped {border: 1px dashed gray;margin: 0 0.4em 0.5em 0.4em;box-sizing: border-box;padding-bottom: 0.4em;background-color: white;}#sk-container-id-1 div.sk-label label {font-family: monospace;font-weight: bold;display: inline-block;line-height: 1.2em;}#sk-container-id-1 div.sk-label-container {text-align: center;}#sk-container-id-1 div.sk-container {/* jupyter's `normalize.less` sets `[hidden] { display: none; }` but bootstrap.min.css set `[hidden] { display: none !important; }` so we also need the `!important` here to be able to override the default hidden behavior on the sphinx rendered scikit-learn.org. See: https://github.com/scikit-learn/scikit-learn/issues/21755 */display: inline-block !important;position: relative;}#sk-container-id-1 div.sk-text-repr-fallback {display: none;}</style><div id=\"sk-container-id-1\" class=\"sk-top-container\"><div class=\"sk-text-repr-fallback\"><pre>TfidfVectorizer(stop_words=&#x27;english&#x27;)</pre><b>In a Jupyter environment, please rerun this cell to show the HTML representation or trust the notebook. <br />On GitHub, the HTML representation is unable to render, please try loading this page with nbviewer.org.</b></div><div class=\"sk-container\" hidden><div class=\"sk-item\"><div class=\"sk-estimator sk-toggleable\"><input class=\"sk-toggleable__control sk-hidden--visually\" id=\"sk-estimator-id-1\" type=\"checkbox\" checked><label for=\"sk-estimator-id-1\" class=\"sk-toggleable__label sk-toggleable__label-arrow\">TfidfVectorizer</label><div class=\"sk-toggleable__content\"><pre>TfidfVectorizer(stop_words=&#x27;english&#x27;)</pre></div></div></div></div></div>"
      ],
      "text/plain": [
       "TfidfVectorizer(stop_words='english')"
      ]
     },
     "execution_count": 22,
     "metadata": {},
     "output_type": "execute_result"
    }
   ],
   "source": [
    "tfidf_vectorizer.fit(X['questionText'].tolist() + X['review_snippets'].tolist())"
   ]
  },
  {
   "cell_type": "code",
   "execution_count": 23,
   "metadata": {},
   "outputs": [],
   "source": [
    "def add_features(df):\n",
    "  #HELPERS\n",
    "  def intersec(q,r):\n",
    "    return len([x for x in q if x in r])\n",
    "  \n",
    "  def vectorize(text):\n",
    "    return tfidf_vectorizer.transform([text]).toarray()[0]\n",
    "\n",
    "  def tokenize(text):\n",
    "    return tokenizer(text,max_length=512,truncation=True).get('input_ids')\n",
    "  \n",
    "  def sentenceTransform(text):\n",
    "    return sentence_t.encode(text)\n",
    "\n",
    "  def cosine_similarity(a,b):\n",
    "    return np.dot(a,b)/(np.linalg.norm(a) * np.linalg.norm(b))\n",
    "  \n",
    "  def dotproduct(a,b):\n",
    "    return np.dot(a,b)\n",
    "  \n",
    "  def euclid_dist(a,b):\n",
    "    return np.linalg.norm(a-b)\n",
    "  \n",
    "  def sentence_mean_max(model,q,r):\n",
    "    f = dotproduct\n",
    "    vals = [f(q,model(sentence)) for sentence in tokenize.sent_token]\n",
    "    return pd.Series([np.mean(vals), np.max(vals)])\n",
    "\n",
    "  df = df.copy()\n",
    "  df['question_ntokens'] = df['questionText'].apply(lambda x:len(tokenize(x)))\n",
    "  df['review_ntokens'] = df['review_snippets'].apply(lambda x:len(tokenize(x)))\n",
    "  df['question_tokens'] = df['questionText'].apply(lambda x:tokenize(x))\n",
    "  df['review_tokens'] = df['review_snippets'].apply(lambda x:tokenize(x))\n",
    "  df['intersec'] = df.apply(lambda row: intersec(row['questionText'], row['review_snippets']),axis=1)\n",
    "  df['intersec_pct'] = df['intersec'] / df['question_ntokens']\n",
    "  df['question_encoded'] = df['questionText'].apply(lambda x: sentenceTransform(x))\n",
    "  df['review_encoded'] = df['review_snippets'].apply(lambda x: sentenceTransform(x))\n",
    "  df['question_tfidf'] = df['questionText'].apply(lambda x: vectorize(x))\n",
    "  df['review_tfidf'] = df['review_snippets'].apply(lambda x: vectorize(x))\n",
    "\n",
    "  for m in ['encoded','tfidf']:\n",
    "    df[f'cosine_sim_{m}'] = df.apply(lambda row: cosine_similarity(row[f'question_{m}'], row[f'review_{m}']),axis =1 )\n",
    "    df[f'dot_prod_{m}'] = df.apply(lambda row: dotproduct(row[f'question_{m}'], row[f'review_{m}']),axis =1 )\n",
    "    df[f'euclid_dist_{m}'] = df.apply(lambda row: euclid_dist(row[f'question_{m}'], row[f'review_{m}']),axis =1 )\n",
    "  df[['sent_max_encoded','sent_mean_encoded']] = df.apply(lambda row: sentence_mean_max(sentenceTransform, row['question_encoded'], row['review_snippets']),axis =1 )\n",
    "  df[['sent_max_tfidf','sent_mean_tfidf']] = df.apply(lambda row: sentence_mean_max(vectorize, row['question_tfidf'], row['review_snippets']),axis =1 )\n",
    "\n",
    "  df.drop(['question_tokens','review_tokens','question_encoded','review_encoded','question_tfidf','review_tfidf'],axis =1 , inplace = True)\n",
    "  return df\n"
   ]
  },
  {
   "cell_type": "code",
   "execution_count": null,
   "metadata": {},
   "outputs": [],
   "source": []
  }
 ],
 "metadata": {
  "kernelspec": {
   "display_name": "ml",
   "language": "python",
   "name": "python3"
  },
  "language_info": {
   "codemirror_mode": {
    "name": "ipython",
    "version": 3
   },
   "file_extension": ".py",
   "mimetype": "text/x-python",
   "name": "python",
   "nbconvert_exporter": "python",
   "pygments_lexer": "ipython3",
   "version": "3.9.15 (main, Nov 24 2022, 08:29:02) \n[Clang 14.0.6 ]"
  },
  "orig_nbformat": 4,
  "vscode": {
   "interpreter": {
    "hash": "6a82152883a9ae0824417df8eee29fc768be135be911d7c9b59fdda4f963266b"
   }
  }
 },
 "nbformat": 4,
 "nbformat_minor": 2
}
