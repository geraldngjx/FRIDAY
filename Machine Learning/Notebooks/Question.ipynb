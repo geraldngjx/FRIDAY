{
  "nbformat": 4,
  "nbformat_minor": 0,
  "metadata": {
    "colab": {
      "provenance": []
    },
    "kernelspec": {
      "name": "python3",
      "display_name": "Python 3"
    },
    "language_info": {
      "name": "python"
    },
    "accelerator": "GPU",
    "gpuClass": "standard"
  },
  "cells": [
    {
      "cell_type": "code",
      "source": [
        "!pip install -q transformers tokenizers sentencepiece\n",
        "!pip install -q git+https://github.com/PrithivirajDamodaran/Parrot_Paraphraser.git"
      ],
      "metadata": {
        "id": "qgihatNvQt9R"
      },
      "execution_count": null,
      "outputs": []
    },
    {
      "cell_type": "code",
      "source": [
        "import pandas as pd \n",
        "import gzip\n",
        "import json\n",
        "import requests\n",
        "from io import BytesIO, StringIO\n",
        "import urllib.request\n",
        "import numpy as np\n",
        "import torch\n",
        "from parrot import Parrot\n",
        "import warnings\n",
        "warnings.filterwarnings(\"ignore\")\n",
        "import ssl\n",
        "import os\n",
        "from random import shuffle\n",
        "ssl._create_default_https_context = ssl._create_unverified_context"
      ],
      "metadata": {
        "id": "AtFSZfjTTT_p"
      },
      "execution_count": null,
      "outputs": []
    },
    {
      "cell_type": "code",
      "execution_count": null,
      "metadata": {
        "id": "eno8uTtESLRI"
      },
      "outputs": [],
      "source": [
        "def get_data(url,N,downloaded):\n",
        "  '''\n",
        "  Args: \n",
        "    url: url of the data\n",
        "    N: number of rows to be returned\n",
        "    downloaded: True if the data is already downloaded\n",
        "\n",
        "  Returns a dataframe of N rows such that not all the data is loaded into memory\n",
        "  '''\n",
        "\n",
        "  im_path = url.split('/')[-1]\n",
        "  final_path = im_path.replace('.gz','')\n",
        "  if not downloaded:\n",
        "    _ = urllib.request.urlretrieve(url, im_path)\n",
        "    with gzip.open(im_path, 'rb') as infile:\n",
        "      with open(final_path, 'wb') as outfile:\n",
        "          for line in infile:\n",
        "              outfile.write(line)\n",
        "  it = pd.read_json(final_path,chunksize = 1000,lines= True)\n",
        "  first_n_rows = pd.DataFrame()\n",
        "  for chunk in it:\n",
        "      first_n_rows = pd.concat([first_n_rows,chunk.head(N)])\n",
        "      if len(first_n_rows) >= N:\n",
        "          break\n",
        "  return first_n_rows"
      ]
    },
    {
      "cell_type": "code",
      "source": [
        "desc = get_data('https://jmcauley.ucsd.edu/data/amazon_v2/metaFiles2/meta_Electronics.json.gz',500000,False).sample(frac = 1) #first 500000 rows"
      ],
      "metadata": {
        "id": "ZVi4svxkTV9l"
      },
      "execution_count": null,
      "outputs": []
    },
    {
      "cell_type": "code",
      "source": [
        "desc['description'] = desc['description'].apply(lambda item: ' '.join([y for y in ''.join(item).split('<') if '>' not in y]))\n",
        "df_desc = desc[['title','asin', 'description']].drop_duplicates()"
      ],
      "metadata": {
        "id": "wo5ZRERxTuUe"
      },
      "execution_count": null,
      "outputs": []
    },
    {
      "cell_type": "code",
      "source": [
        "from transformers import AutoModelWithLMHead, AutoTokenizer\n",
        "\n",
        "tokenizer = AutoTokenizer.from_pretrained(\"mrm8488/t5-base-finetuned-question-generation-ap\")\n",
        "model = AutoModelWithLMHead.from_pretrained(\"mrm8488/t5-base-finetuned-question-generation-ap\")\n",
        "parrot = Parrot(model_tag=\"prithivida/parrot_paraphraser_on_T5\", use_gpu=False)\n",
        "\n",
        "def get_question(answer, context, max_length=64):\n",
        "  input_text = \"answer: %s  context: %s </s>\" % (answer, context)\n",
        "  features = tokenizer([input_text], return_tensors='pt')\n",
        "  device = torch.device(\"cuda\") if torch.cuda.is_available() else torch.device(\"cpu\")\n",
        "  features = features.to(device)\n",
        "  output = model.to(device).generate(input_ids=features['input_ids'], \n",
        "               attention_mask=features['attention_mask'],\n",
        "               max_length=max_length)\n",
        "\n",
        "  return tokenizer.decode(output[0],skip_special_tokens = True,clean_up_tokenization_spaces = True)\n",
        "\n",
        "def paraphrase(input):\n",
        "  para_phrases = parrot.augment(input_phrase=input)\n",
        "  return para_phrases[0][0]\n",
        "\n"
      ],
      "metadata": {
        "colab": {
          "base_uri": "https://localhost:8080/",
          "height": 131
        },
        "id": "xooZ5lE0U77Y",
        "outputId": "637bf714-0b19-40e6-95c3-e7c40544b891"
      },
      "execution_count": null,
      "outputs": [
        {
          "output_type": "error",
          "ename": "IndentationError",
          "evalue": "ignored",
          "traceback": [
            "\u001b[0;36m  File \u001b[0;32m\"<ipython-input-35-2ef9f23c4c73>\"\u001b[0;36m, line \u001b[0;32m20\u001b[0m\n\u001b[0;31m    para_phrases = parrot.augment(input_phrase=phrase)\u001b[0m\n\u001b[0m    ^\u001b[0m\n\u001b[0;31mIndentationError\u001b[0m\u001b[0;31m:\u001b[0m expected an indented block\n"
          ]
        }
      ]
    },
    {
      "cell_type": "code",
      "source": [
        "df_filtered = df_desc[df_desc['description'].apply(lambda x:len(x.split()) > 70)]"
      ],
      "metadata": {
        "id": "bsJlDLw0Wbna",
        "colab": {
          "base_uri": "https://localhost:8080/",
          "height": 166
        },
        "outputId": "2c9bc475-6d7f-4cb4-af85-6fc262c8b263"
      },
      "execution_count": null,
      "outputs": [
        {
          "output_type": "error",
          "ename": "NameError",
          "evalue": "ignored",
          "traceback": [
            "\u001b[0;31m---------------------------------------------------------------------------\u001b[0m",
            "\u001b[0;31mNameError\u001b[0m                                 Traceback (most recent call last)",
            "\u001b[0;32m<ipython-input-22-3cabeb456665>\u001b[0m in \u001b[0;36m<module>\u001b[0;34m\u001b[0m\n\u001b[0;32m----> 1\u001b[0;31m \u001b[0mdf_filtered\u001b[0m \u001b[0;34m=\u001b[0m \u001b[0mdf_desc\u001b[0m\u001b[0;34m[\u001b[0m\u001b[0mdf_desc\u001b[0m\u001b[0;34m[\u001b[0m\u001b[0;34m'description'\u001b[0m\u001b[0;34m]\u001b[0m\u001b[0;34m.\u001b[0m\u001b[0mapply\u001b[0m\u001b[0;34m(\u001b[0m\u001b[0;32mlambda\u001b[0m \u001b[0mx\u001b[0m\u001b[0;34m:\u001b[0m\u001b[0mlen\u001b[0m\u001b[0;34m(\u001b[0m\u001b[0mx\u001b[0m\u001b[0;34m.\u001b[0m\u001b[0msplit\u001b[0m\u001b[0;34m(\u001b[0m\u001b[0;34m)\u001b[0m\u001b[0;34m)\u001b[0m \u001b[0;34m>\u001b[0m \u001b[0;36m70\u001b[0m\u001b[0;34m)\u001b[0m\u001b[0;34m]\u001b[0m\u001b[0;34m\u001b[0m\u001b[0;34m\u001b[0m\u001b[0m\n\u001b[0m",
            "\u001b[0;31mNameError\u001b[0m: name 'df_desc' is not defined"
          ]
        }
      ]
    },
    {
      "cell_type": "code",
      "source": [
        "descriptions = df_filtered['description'].unique().tolist()"
      ],
      "metadata": {
        "id": "GnRYt9OHbWjP"
      },
      "execution_count": null,
      "outputs": []
    },
    {
      "cell_type": "code",
      "source": [
        "len(descriptions)"
      ],
      "metadata": {
        "id": "1QeDohuic8Cr"
      },
      "execution_count": null,
      "outputs": []
    },
    {
      "cell_type": "code",
      "source": [
        "import nltk\n",
        "nltk.download('punkt')"
      ],
      "metadata": {
        "id": "-G0vECiUenEX"
      },
      "execution_count": null,
      "outputs": []
    },
    {
      "cell_type": "code",
      "source": [
        "del desc\n",
        "del df_filtered"
      ],
      "metadata": {
        "id": "PKrFV_PLewdC"
      },
      "execution_count": null,
      "outputs": []
    },
    {
      "cell_type": "code",
      "source": [
        "del df_desc"
      ],
      "metadata": {
        "id": "VEB7QCCJgweM"
      },
      "execution_count": null,
      "outputs": []
    },
    {
      "cell_type": "code",
      "source": [
        "master = []\n",
        "counter = 0\n",
        "for context in descriptions:\n",
        "  counter +=1\n",
        "  print(\"Parsing:\", counter, '       ', end = '\\r')\n",
        "  indiv = []\n",
        "  sentences = nltk.tokenize.sent_tokenize(context)\n",
        "  shuffle(sentences)\n",
        "  sent_count = 0\n",
        "  for answer in sentences:\n",
        "    sent_count += 1\n",
        "    question = get_question(answer, context)\n",
        "    indiv.append({\n",
        "        'question':question,\n",
        "        'answer': paraphrase(answer),\n",
        "    })\n",
        "    if sent_count > 6:\n",
        "      break\n",
        "\n",
        "  master.append({\n",
        "      'context': context,\n",
        "      'result': indiv\n",
        "  })\n",
        "\n"
      ],
      "metadata": {
        "colab": {
          "base_uri": "https://localhost:8080/"
        },
        "id": "cPKKcpM0c_UL",
        "outputId": "0549fcf0-6def-477b-bf94-e2607d4b21a9"
      },
      "execution_count": null,
      "outputs": [
        {
          "output_type": "stream",
          "name": "stdout",
          "text": [
            "Parsing: 1        \r"
          ]
        }
      ]
    },
    {
      "cell_type": "code",
      "source": [
        "import json\n",
        "\n",
        "with open('q_and_a.json', 'w') as fp:\n",
        "    json.dump(master, fp)"
      ],
      "metadata": {
        "id": "u8hGwFIMeeZ7"
      },
      "execution_count": null,
      "outputs": []
    },
    {
      "cell_type": "code",
      "source": [
        "phrase"
      ],
      "metadata": {
        "id": "sY9m9NwF7hE9",
        "colab": {
          "base_uri": "https://localhost:8080/",
          "height": 35
        },
        "outputId": "3b40bb27-2e3b-45af-a3a8-728c88074bf5"
      },
      "execution_count": null,
      "outputs": [
        {
          "output_type": "execute_result",
          "data": {
            "text/plain": [
              "'The following camera brands and models have been tested for compatibility with GV-Software'"
            ],
            "application/vnd.google.colaboratory.intrinsic+json": {
              "type": "string"
            }
          },
          "metadata": {},
          "execution_count": 41
        }
      ]
    },
    {
      "cell_type": "code",
      "source": [
        "parrot.rephrase(phrase)"
      ],
      "metadata": {
        "colab": {
          "base_uri": "https://localhost:8080/"
        },
        "id": "BEyAIRMlQ4Ia",
        "outputId": "d50d57f6-bb64-429d-e0eb-6d89293ff0f2"
      },
      "execution_count": null,
      "outputs": [
        {
          "output_type": "execute_result",
          "data": {
            "text/plain": [
              "('the following camera brands and models have been tested for compatibility with the gv-software and software',\n",
              " 29)"
            ]
          },
          "metadata": {},
          "execution_count": 37
        }
      ]
    },
    {
      "cell_type": "code",
      "source": [
        "parrot.augment(phrase, do_diverse = True)"
      ],
      "metadata": {
        "colab": {
          "base_uri": "https://localhost:8080/"
        },
        "id": "beHJL9kWRDWl",
        "outputId": "bab2d51e-4417-4183-da46-72a051b56614"
      },
      "execution_count": null,
      "outputs": [
        {
          "output_type": "execute_result",
          "data": {
            "text/plain": [
              "[('gv-software has been tested on the following camera brands and models for compatibility with',\n",
              "  54),\n",
              " ('the following camera brands and models have been tested for compatibility with the gv software',\n",
              "  17),\n",
              " ('the following camera brands and models have been tested for compatibility with the gv-software',\n",
              "  16),\n",
              " ('the following camera brands and models have been tested for compatibility with gv software',\n",
              "  13),\n",
              " ('the following camera brands and models have been tested for compatibility with gv-software',\n",
              "  12)]"
            ]
          },
          "metadata": {},
          "execution_count": 40
        }
      ]
    },
    {
      "cell_type": "code",
      "source": [],
      "metadata": {
        "id": "9WpQKQv-RNlQ"
      },
      "execution_count": null,
      "outputs": []
    }
  ]
}